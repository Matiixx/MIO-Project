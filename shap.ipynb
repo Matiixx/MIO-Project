{
 "cells": [
  {
   "cell_type": "code",
   "execution_count": 18,
   "metadata": {},
   "outputs": [],
   "source": [
    "import pickle\n",
    "import shap\n",
    "import pandas as pd\n",
    "from sklearn.model_selection import train_test_split\n",
    "\n",
    "import xgboost as xgb\n",
    "import shap.benchmark as benchmark"
   ]
  },
  {
   "cell_type": "code",
   "execution_count": 27,
   "metadata": {},
   "outputs": [],
   "source": [
    "def shap_analysis_model():\n",
    "    with open(\"finalized_model.pkl\", \"rb\") as file:\n",
    "      model = pickle.load(file)\n",
    "    with open(\"vectorizer.pkl\", \"rb\") as file:\n",
    "      vectorizer = pickle.load(file)\n",
    "\n",
    "    data = pd.read_csv(\"reduced_data.csv\")\n",
    "    data = data.dropna(subset=[\"content\"])\n",
    "\n",
    "    X = data[\"content\"]\n",
    "    y = data[\"favorites\"]\n",
    "\n",
    "    _, X_test, _, _ = train_test_split(X, y, test_size=0.2, random_state=31232)\n",
    "    X_test = vectorizer.transform(X_test).toarray()\n",
    "\n",
    "    explainer = shap.Explainer(model)\n",
    "    shap_values = explainer(X_test)\n",
    "\n",
    "    feature_names = vectorizer.get_feature_names_out()\n",
    "    shap.summary_plot(shap_values, feature_names=feature_names)\n",
    "    shap.plots.waterfall(shap_values[0])\n",
    "    shap.plots.beeswarm(shap_values)"
   ]
  },
  {
   "cell_type": "code",
   "execution_count": 28,
   "metadata": {},
   "outputs": [
    {
     "name": "stderr",
     "output_type": "stream",
     "text": [
      "In the future `np.bool` will be defined as the corresponding NumPy scalar.  (This may have returned Python scalars in past versions.\n"
     ]
    },
    {
     "ename": "AttributeError",
     "evalue": "module 'numpy' has no attribute 'bool'",
     "output_type": "error",
     "traceback": [
      "\u001b[1;31m---------------------------------------------------------------------------\u001b[0m",
      "\u001b[1;31mAttributeError\u001b[0m                            Traceback (most recent call last)",
      "Cell \u001b[1;32mIn[28], line 1\u001b[0m\n\u001b[1;32m----> 1\u001b[0m shap_analysis_model()\n",
      "Cell \u001b[1;32mIn[27], line 19\u001b[0m, in \u001b[0;36mshap_analysis_model\u001b[1;34m()\u001b[0m\n\u001b[0;32m     16\u001b[0m \u001b[39mdef\u001b[39;00m \u001b[39mmodel_predict\u001b[39m(X):\n\u001b[0;32m     17\u001b[0m     \u001b[39mreturn\u001b[39;00m model\u001b[39m.\u001b[39mpredict(X)\n\u001b[1;32m---> 19\u001b[0m explainer \u001b[39m=\u001b[39m shap\u001b[39m.\u001b[39;49mExplainer(model_predict, X_test)\n\u001b[0;32m     20\u001b[0m shap_values \u001b[39m=\u001b[39m explainer(X_test)\n\u001b[0;32m     22\u001b[0m feature_names \u001b[39m=\u001b[39m vectorizer\u001b[39m.\u001b[39mget_feature_names_out()\n",
      "File \u001b[1;32m~\\AppData\\Local\\Packages\\PythonSoftwareFoundation.Python.3.10_qbz5n2kfra8p0\\LocalCache\\local-packages\\Python310\\site-packages\\shap\\explainers\\_explainer.py:88\u001b[0m, in \u001b[0;36mExplainer.__init__\u001b[1;34m(self, model, masker, link, algorithm, output_names, feature_names, linearize_link, seed, **kwargs)\u001b[0m\n\u001b[0;32m     86\u001b[0m         \u001b[39mself\u001b[39m\u001b[39m.\u001b[39mmasker \u001b[39m=\u001b[39m maskers\u001b[39m.\u001b[39mPartition(masker)\n\u001b[0;32m     87\u001b[0m     \u001b[39melse\u001b[39;00m:\n\u001b[1;32m---> 88\u001b[0m         \u001b[39mself\u001b[39m\u001b[39m.\u001b[39mmasker \u001b[39m=\u001b[39m maskers\u001b[39m.\u001b[39;49mIndependent(masker)\n\u001b[0;32m     89\u001b[0m \u001b[39melif\u001b[39;00m safe_isinstance(masker, [\u001b[39m\"\u001b[39m\u001b[39mtransformers.PreTrainedTokenizer\u001b[39m\u001b[39m\"\u001b[39m, \u001b[39m\"\u001b[39m\u001b[39mtransformers.tokenization_utils_base.PreTrainedTokenizerBase\u001b[39m\u001b[39m\"\u001b[39m]):\n\u001b[0;32m     90\u001b[0m     \u001b[39mif\u001b[39;00m is_transformers_lm(\u001b[39mself\u001b[39m\u001b[39m.\u001b[39mmodel):\n\u001b[0;32m     91\u001b[0m         \u001b[39m# auto assign text infilling if model is a transformer model with lm head\u001b[39;00m\n",
      "File \u001b[1;32m~\\AppData\\Local\\Packages\\PythonSoftwareFoundation.Python.3.10_qbz5n2kfra8p0\\LocalCache\\local-packages\\Python310\\site-packages\\shap\\maskers\\_tabular.py:262\u001b[0m, in \u001b[0;36mIndependent.__init__\u001b[1;34m(self, data, max_samples)\u001b[0m\n\u001b[0;32m    247\u001b[0m \u001b[39mdef\u001b[39;00m \u001b[39m__init__\u001b[39m(\u001b[39mself\u001b[39m, data, max_samples\u001b[39m=\u001b[39m\u001b[39m100\u001b[39m):\n\u001b[0;32m    248\u001b[0m \u001b[39m    \u001b[39m\u001b[39m\"\"\" Build a Independent masker with the given background data.\u001b[39;00m\n\u001b[0;32m    249\u001b[0m \n\u001b[0;32m    250\u001b[0m \u001b[39m    Parameters\u001b[39;00m\n\u001b[1;32m   (...)\u001b[0m\n\u001b[0;32m    260\u001b[0m \u001b[39m        about 1, 10, 100, or 1000 background samples are reasonable choices.\u001b[39;00m\n\u001b[0;32m    261\u001b[0m \u001b[39m    \"\"\"\u001b[39;00m\n\u001b[1;32m--> 262\u001b[0m     \u001b[39msuper\u001b[39;49m()\u001b[39m.\u001b[39;49m\u001b[39m__init__\u001b[39;49m(data, max_samples\u001b[39m=\u001b[39;49mmax_samples, clustering\u001b[39m=\u001b[39;49m\u001b[39mNone\u001b[39;49;00m)\n",
      "File \u001b[1;32m~\\AppData\\Local\\Packages\\PythonSoftwareFoundation.Python.3.10_qbz5n2kfra8p0\\LocalCache\\local-packages\\Python310\\site-packages\\shap\\maskers\\_tabular.py:82\u001b[0m, in \u001b[0;36mTabular.__init__\u001b[1;34m(self, data, max_samples, clustering)\u001b[0m\n\u001b[0;32m     80\u001b[0m \u001b[39m# self._last_mask = np.zeros(self.data.shape[1], dtype=np.bool)\u001b[39;00m\n\u001b[0;32m     81\u001b[0m \u001b[39mself\u001b[39m\u001b[39m.\u001b[39m_masked_data \u001b[39m=\u001b[39m data\u001b[39m.\u001b[39mcopy()\n\u001b[1;32m---> 82\u001b[0m \u001b[39mself\u001b[39m\u001b[39m.\u001b[39m_last_mask \u001b[39m=\u001b[39m np\u001b[39m.\u001b[39mzeros(data\u001b[39m.\u001b[39mshape[\u001b[39m1\u001b[39m], dtype\u001b[39m=\u001b[39mnp\u001b[39m.\u001b[39;49mbool)\n\u001b[0;32m     83\u001b[0m \u001b[39mself\u001b[39m\u001b[39m.\u001b[39mshape \u001b[39m=\u001b[39m \u001b[39mself\u001b[39m\u001b[39m.\u001b[39mdata\u001b[39m.\u001b[39mshape\n\u001b[0;32m     84\u001b[0m \u001b[39mself\u001b[39m\u001b[39m.\u001b[39msupports_delta_masking \u001b[39m=\u001b[39m \u001b[39mTrue\u001b[39;00m\n",
      "File \u001b[1;32m~\\AppData\\Local\\Packages\\PythonSoftwareFoundation.Python.3.10_qbz5n2kfra8p0\\LocalCache\\local-packages\\Python310\\site-packages\\numpy\\__init__.py:284\u001b[0m, in \u001b[0;36m__getattr__\u001b[1;34m(attr)\u001b[0m\n\u001b[0;32m    281\u001b[0m     \u001b[39mfrom\u001b[39;00m \u001b[39m.\u001b[39;00m\u001b[39mtesting\u001b[39;00m \u001b[39mimport\u001b[39;00m Tester\n\u001b[0;32m    282\u001b[0m     \u001b[39mreturn\u001b[39;00m Tester\n\u001b[1;32m--> 284\u001b[0m \u001b[39mraise\u001b[39;00m \u001b[39mAttributeError\u001b[39;00m(\u001b[39m\"\u001b[39m\u001b[39mmodule \u001b[39m\u001b[39m{!r}\u001b[39;00m\u001b[39m has no attribute \u001b[39m\u001b[39m\"\u001b[39m\n\u001b[0;32m    285\u001b[0m                      \u001b[39m\"\u001b[39m\u001b[39m{!r}\u001b[39;00m\u001b[39m\"\u001b[39m\u001b[39m.\u001b[39mformat(\u001b[39m__name__\u001b[39m, attr))\n",
      "\u001b[1;31mAttributeError\u001b[0m: module 'numpy' has no attribute 'bool'"
     ]
    }
   ],
   "source": [
    "shap_analysis_model()"
   ]
  }
 ],
 "metadata": {
  "kernelspec": {
   "display_name": "Python 3",
   "language": "python",
   "name": "python3"
  },
  "language_info": {
   "codemirror_mode": {
    "name": "ipython",
    "version": 3
   },
   "file_extension": ".py",
   "mimetype": "text/x-python",
   "name": "python",
   "nbconvert_exporter": "python",
   "pygments_lexer": "ipython3",
   "version": "3.10.11"
  },
  "orig_nbformat": 4
 },
 "nbformat": 4,
 "nbformat_minor": 2
}
